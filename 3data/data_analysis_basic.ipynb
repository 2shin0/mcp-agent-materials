{
 "cells": [
  {
   "cell_type": "markdown",
   "id": "e8f3b9ca",
   "metadata": {},
   "source": [
    "# Data Analysis 실습\n",
    "\n",
    "1. 전처리(Preprocessing): 데이터 정제 및 가공\n",
    "2. 탐색적 데이터 분석(EDA): 데이터의 특성 파악\n",
    "3. 통계 분석: 수치를 통한 인사이트 도출\n",
    "\n",
    "<br>\n",
    "\n",
    "|정형 데이터|반정형데이터|비정형데이터|\n",
    "|---|---|---|\n",
    "|- 특징: 행과 열로 정렬된 테이블 형태<br>- 예시: CSV, Excel, 데이터베이스<br>- 처리: 결측치 처리, 이상치 처리, 통계 분석 가능<br>- 장점: 분석하기 쉬움|- 특징: 일부 구조가 있지만 완전히 정형화되지 않음<br>- 예시: JSON, XML, 로그 파일<br>- 처리: 파싱 필요, 구조 추출, 필드별 분석<br>- 장점: 다양한 정보 포함 가능|- 특징: 구조가 없는 순수 텍스트, 이미지, 음성 등<br>- 예시: 리뷰, 이메일, 뉴스 기사<br>- 처리: 텍스트 전처리, 토큰화, 감정 분석 등<br>- 장점: 풍부한 정보와 통찰 제공|\n",
    "\n",
    "<br>\n",
    "\n",
    "---"
   ]
  },
  {
   "cell_type": "markdown",
   "id": "d2c79aad",
   "metadata": {},
   "source": [
    "## ✔️ 라이브러리 불러오기"
   ]
  },
  {
   "cell_type": "code",
   "execution_count": 8,
   "id": "0b49bb52",
   "metadata": {},
   "outputs": [],
   "source": [
    "import pandas as pd\n",
    "import numpy as np\n",
    "import re\n",
    "import json\n",
    "\n",
    "import matplotlib.pyplot as plt\n",
    "import seaborn as sns\n",
    "from datetime import datetime\n",
    "\n",
    "# 시각화 설정\n",
    "plt.rcParams['font.family'] = 'Malgun Gothic'  # 한글 폰트\n",
    "plt.rcParams['axes.unicode_minus'] = False"
   ]
  },
  {
   "cell_type": "markdown",
   "id": "d3c44887",
   "metadata": {},
   "source": [
    "## ✔️ 정형데이터(Structured Data) - CSV 형태의 테이블 데이터"
   ]
  },
  {
   "cell_type": "code",
   "execution_count": null,
   "id": "389d75af",
   "metadata": {},
   "outputs": [],
   "source": [
    "structured_data = {\n",
    "    '상품명': ['노트북', '마우스', '키보드', '모니터', '웹캠', '노트북', '마우스', '키보드'],\n",
    "    '가격': [1200000, 35000, 85000, 320000, 65000, 1200000, 35000, 85000],\n",
    "    '판매량': [2, 15, 8, 3, 12, 1, 20, 5],\n",
    "    '평점': [4.5, np.nan, 4.8, 101, 3.9, 4.5, np.nan, 4.8],\n",
    "    '카테고리': ['전자기기', '액세서리', '액세서리', '전자기기', '액세서리', '전자기기', '액세서리', '액세서리'],\n",
    "}\n",
    "\n",
    "df_structured = pd.DataFrame(structured_data)\n",
    "df_structured"
   ]
  },
  {
   "cell_type": "code",
   "execution_count": null,
   "id": "bd3dbe0e",
   "metadata": {},
   "outputs": [],
   "source": [
    "# 결측치 확인\n",
    "print(df_structured.isnull().sum())"
   ]
  },
  {
   "cell_type": "markdown",
   "id": "ec37eb7e",
   "metadata": {},
   "source": [
    "### 전처리"
   ]
  },
  {
   "cell_type": "code",
   "execution_count": null,
   "id": "ee37e69a",
   "metadata": {},
   "outputs": [],
   "source": [
    "# 결측치 처리\n",
    "\n",
    "# '평점' 컬럼에서 평균값 계산하여 채우기\n",
    "df_mean_filled = df_structured.copy()\n",
    "mean_rating = df_structured['평점'].mean()\n",
    "df_mean_filled['평점'] = df_mean_filled['평점'].fillna(mean_rating)\n",
    "\n",
    "# '평점' 컬럼에서 중앙값 계산하여 채우기\n",
    "df_median_filled = df_structured.copy()\n",
    "median_rating = df_structured['평점'].median()\n",
    "df_median_filled['평점'] = df_median_filled['평점'].fillna(median_rating)\n",
    "\n",
    "# 특정 값으로 채우기\n",
    "df_zero_filled = df_structured.copy()\n",
    "df_zero_filled['평점'] = df_zero_filled['평점'].fillna(0)\n",
    "\n",
    "print(\"\\n원본 데이터프레임:\\n\", df_structured)\n",
    "print(\"\\n평균값으로 결측치 채우기:\\n\", df_mean_filled)\n",
    "print(\"\\n중앙값으로 결측치 채우기:\\n\", df_median_filled)\n",
    "print(\"\\n0으로 결측치 채우기:\\n\", df_zero_filled)\n"
   ]
  },
  {
   "cell_type": "code",
   "execution_count": null,
   "id": "4de5f7bf",
   "metadata": {},
   "outputs": [],
   "source": [
    "# 이상치 처리 (평점이 5점 이상인 경우 5로 조정)\n",
    "print(\"이상치 처리 (평점 5점 이상 → 5점으로 조정)\")\n",
    "df_clipped = df_structured.copy()\n",
    "df_clipped['평점'] = df_clipped['평점'].clip(upper=5.0)\n",
    "print(\"\\n원본 데이터프레임:\\n\", df_structured)\n",
    "print(\"\\n이상치 처리된 데이터프레임:\\n\", df_clipped)"
   ]
  },
  {
   "cell_type": "code",
   "execution_count": 9,
   "id": "988ce77b",
   "metadata": {},
   "outputs": [
    {
     "data": {
      "text/html": [
       "<div>\n",
       "<style scoped>\n",
       "    .dataframe tbody tr th:only-of-type {\n",
       "        vertical-align: middle;\n",
       "    }\n",
       "\n",
       "    .dataframe tbody tr th {\n",
       "        vertical-align: top;\n",
       "    }\n",
       "\n",
       "    .dataframe thead th {\n",
       "        text-align: right;\n",
       "    }\n",
       "</style>\n",
       "<table border=\"1\" class=\"dataframe\">\n",
       "  <thead>\n",
       "    <tr style=\"text-align: right;\">\n",
       "      <th></th>\n",
       "      <th>상품명</th>\n",
       "      <th>가격</th>\n",
       "      <th>판매량</th>\n",
       "      <th>평점</th>\n",
       "      <th>카테고리</th>\n",
       "    </tr>\n",
       "  </thead>\n",
       "  <tbody>\n",
       "    <tr>\n",
       "      <th>0</th>\n",
       "      <td>노트북</td>\n",
       "      <td>1200000</td>\n",
       "      <td>2</td>\n",
       "      <td>4.500000</td>\n",
       "      <td>전자기기</td>\n",
       "    </tr>\n",
       "    <tr>\n",
       "      <th>1</th>\n",
       "      <td>마우스</td>\n",
       "      <td>35000</td>\n",
       "      <td>15</td>\n",
       "      <td>4.583333</td>\n",
       "      <td>액세서리</td>\n",
       "    </tr>\n",
       "    <tr>\n",
       "      <th>2</th>\n",
       "      <td>키보드</td>\n",
       "      <td>85000</td>\n",
       "      <td>8</td>\n",
       "      <td>4.800000</td>\n",
       "      <td>액세서리</td>\n",
       "    </tr>\n",
       "    <tr>\n",
       "      <th>3</th>\n",
       "      <td>모니터</td>\n",
       "      <td>320000</td>\n",
       "      <td>3</td>\n",
       "      <td>5.000000</td>\n",
       "      <td>전자기기</td>\n",
       "    </tr>\n",
       "    <tr>\n",
       "      <th>4</th>\n",
       "      <td>웹캠</td>\n",
       "      <td>65000</td>\n",
       "      <td>12</td>\n",
       "      <td>3.900000</td>\n",
       "      <td>액세서리</td>\n",
       "    </tr>\n",
       "    <tr>\n",
       "      <th>5</th>\n",
       "      <td>노트북</td>\n",
       "      <td>1200000</td>\n",
       "      <td>1</td>\n",
       "      <td>4.500000</td>\n",
       "      <td>전자기기</td>\n",
       "    </tr>\n",
       "    <tr>\n",
       "      <th>6</th>\n",
       "      <td>마우스</td>\n",
       "      <td>35000</td>\n",
       "      <td>20</td>\n",
       "      <td>4.583333</td>\n",
       "      <td>액세서리</td>\n",
       "    </tr>\n",
       "    <tr>\n",
       "      <th>7</th>\n",
       "      <td>키보드</td>\n",
       "      <td>85000</td>\n",
       "      <td>5</td>\n",
       "      <td>4.800000</td>\n",
       "      <td>액세서리</td>\n",
       "    </tr>\n",
       "  </tbody>\n",
       "</table>\n",
       "</div>"
      ],
      "text/plain": [
       "   상품명       가격  판매량        평점  카테고리\n",
       "0  노트북  1200000    2  4.500000  전자기기\n",
       "1  마우스    35000   15  4.583333  액세서리\n",
       "2  키보드    85000    8  4.800000  액세서리\n",
       "3  모니터   320000    3  5.000000  전자기기\n",
       "4   웹캠    65000   12  3.900000  액세서리\n",
       "5  노트북  1200000    1  4.500000  전자기기\n",
       "6  마우스    35000   20  4.583333  액세서리\n",
       "7  키보드    85000    5  4.800000  액세서리"
      ]
     },
     "execution_count": 9,
     "metadata": {},
     "output_type": "execute_result"
    }
   ],
   "source": [
    "# 전처리 완료\n",
    "df_final = df_structured.copy()\n",
    "\n",
    "df_final['평점'] = df_final['평점'].clip(upper=5.0)\n",
    "\n",
    "mean_rating = df_final['평점'].mean()\n",
    "df_final['평점'] = df_final['평점'].fillna(mean_rating)\n",
    "\n",
    "df_final"
   ]
  },
  {
   "cell_type": "markdown",
   "id": "97943883",
   "metadata": {},
   "source": [
    "### 분석"
   ]
  },
  {
   "cell_type": "code",
   "execution_count": 10,
   "id": "a6291db5",
   "metadata": {},
   "outputs": [
    {
     "name": "stdout",
     "output_type": "stream",
     "text": [
      "\n",
      "가격과 판매량의 기초 통계량\n",
      "평균 가격: 378,125원\n",
      "중앙값 가격: 85,000원\n",
      "최고 가격: 1,200,000원\n",
      "최저 가격: 35,000원\n",
      "\n",
      "평균 판매량: 8.2개\n",
      "총 판매량: 66개\n"
     ]
    }
   ],
   "source": [
    "# 기초 통계량\n",
    "print(\"\\n가격과 판매량의 기초 통계량\")\n",
    "print(f\"평균 가격: {df_final['가격'].mean():,.0f}원\")\n",
    "print(f\"중앙값 가격: {df_final['가격'].median():,.0f}원\")\n",
    "print(f\"최고 가격: {df_final['가격'].max():,.0f}원\")\n",
    "print(f\"최저 가격: {df_final['가격'].min():,.0f}원\")\n",
    "print(f\"\\n평균 판매량: {df_final['판매량'].mean():.1f}개\")\n",
    "print(f\"총 판매량: {df_final['판매량'].sum()}개\")"
   ]
  },
  {
   "cell_type": "code",
   "execution_count": 11,
   "id": "dfb7a273",
   "metadata": {},
   "outputs": [
    {
     "name": "stdout",
     "output_type": "stream",
     "text": [
      "\n",
      "카테고리별 분석\n"
     ]
    },
    {
     "data": {
      "text/html": [
       "<div>\n",
       "<style scoped>\n",
       "    .dataframe tbody tr th:only-of-type {\n",
       "        vertical-align: middle;\n",
       "    }\n",
       "\n",
       "    .dataframe tbody tr th {\n",
       "        vertical-align: top;\n",
       "    }\n",
       "\n",
       "    .dataframe thead th {\n",
       "        text-align: right;\n",
       "    }\n",
       "</style>\n",
       "<table border=\"1\" class=\"dataframe\">\n",
       "  <thead>\n",
       "    <tr style=\"text-align: right;\">\n",
       "      <th></th>\n",
       "      <th>판매량</th>\n",
       "      <th>가격</th>\n",
       "      <th>평점</th>\n",
       "    </tr>\n",
       "    <tr>\n",
       "      <th>카테고리</th>\n",
       "      <th></th>\n",
       "      <th></th>\n",
       "      <th></th>\n",
       "    </tr>\n",
       "  </thead>\n",
       "  <tbody>\n",
       "    <tr>\n",
       "      <th>액세서리</th>\n",
       "      <td>12.0</td>\n",
       "      <td>61000.00</td>\n",
       "      <td>4.53</td>\n",
       "    </tr>\n",
       "    <tr>\n",
       "      <th>전자기기</th>\n",
       "      <td>2.0</td>\n",
       "      <td>906666.67</td>\n",
       "      <td>4.67</td>\n",
       "    </tr>\n",
       "  </tbody>\n",
       "</table>\n",
       "</div>"
      ],
      "text/plain": [
       "       판매량         가격    평점\n",
       "카테고리                       \n",
       "액세서리  12.0   61000.00  4.53\n",
       "전자기기   2.0  906666.67  4.67"
      ]
     },
     "execution_count": 11,
     "metadata": {},
     "output_type": "execute_result"
    }
   ],
   "source": [
    "# 그룹 분석 (카테고리별 평균 판매량)\n",
    "print(\"\\n카테고리별 분석\")\n",
    "category_analysis = df_final.groupby('카테고리').agg({\n",
    "    '판매량': 'mean',\n",
    "    '가격': 'mean',\n",
    "    '평점': 'mean'\n",
    "}).round(2)\n",
    "category_analysis"
   ]
  },
  {
   "cell_type": "code",
   "execution_count": 12,
   "id": "3cd2b38f",
   "metadata": {},
   "outputs": [
    {
     "name": "stdout",
     "output_type": "stream",
     "text": [
      "\n",
      "상품별 매출 분석\n",
      "   상품명       가격  판매량       매출\n",
      "0  노트북  1200000    2  2400000\n",
      "5  노트북  1200000    1  1200000\n",
      "3  모니터   320000    3   960000\n",
      "4   웹캠    65000   12   780000\n",
      "6  마우스    35000   20   700000\n",
      "2  키보드    85000    8   680000\n",
      "1  마우스    35000   15   525000\n",
      "7  키보드    85000    5   425000\n",
      "\n",
      "총 매출: 7,670,000원\n"
     ]
    }
   ],
   "source": [
    "# 매출 분석 (가격 × 판매량)\n",
    "print(\"\\n상품별 매출 분석\")\n",
    "df_final['매출'] = df_final['가격'] * df_final['판매량']\n",
    "sales_by_product = df_final[['상품명', '가격', '판매량', '매출']].drop_duplicates()\n",
    "sales_by_product = sales_by_product.sort_values('매출', ascending=False)\n",
    "print(sales_by_product)\n",
    "print(f\"\\n총 매출: {df_final['매출'].sum():,.0f}원\")"
   ]
  },
  {
   "cell_type": "markdown",
   "id": "a4bd75e6",
   "metadata": {},
   "source": [
    "## ✔️ 반정형데이터(Semi-Structured Data) - JSON 형태의 데이터"
   ]
  },
  {
   "cell_type": "code",
   "execution_count": 17,
   "id": "4be5df1a",
   "metadata": {},
   "outputs": [
    {
     "name": "stdout",
     "output_type": "stream",
     "text": [
      "\n",
      "[원본 데이터] JSON 형태의 SNS 게시물\n"
     ]
    },
    {
     "data": {
      "text/plain": [
       "'[{\"id\": 1, \"username\": \"user1\", \"content\": \"안녕하세요\", \"likes\": 15, \"comments\": 3, \"date\": \"2024-01-01\"}, {\"id\": 2, \"username\": \"user2\", \"content\": \"오늘 날씨 좋네요\", \"likes\": 42, \"comments\": 8, \"date\": \"2024-01-02\"}]'"
      ]
     },
     "execution_count": 17,
     "metadata": {},
     "output_type": "execute_result"
    }
   ],
   "source": [
    "# 반정형데이터 예시: SNS 게시물 데이터 (JSON)\n",
    "semi_structured_json = '''[\n",
    "    {\"id\": 1, \"username\": \"user1\", \"content\": \"안녕하세요\", \"likes\": 15, \"comments\": 3, \"date\": \"2024-01-01\"},\n",
    "    {\"id\": 2, \"username\": \"user2\", \"content\": \"오늘 날씨 좋네요\", \"likes\": 42, \"comments\": 8, \"date\": \"2024-01-02\"},\n",
    "    {\"id\": 3, \"username\": \"user1\", \"content\": \"새로운 프로젝트 시작했어요\", \"likes\": 28, \"comments\": 5, \"date\": \"2024-01-03\"},\n",
    "    {\"id\": 4, \"username\": \"user3\", \"content\": \"데이터 분석 공부 중\", \"likes\": 35, \"comments\": 7, \"date\": \"2024-01-04\"},\n",
    "    {\"id\": 5, \"username\": \"user2\", \"content\": \"파이썬 너무 재미있어요\", \"likes\": 50, \"comments\": 12, \"date\": \"2024-01-05\"}\n",
    "]'''\n",
    "\n",
    "# JSON 파싱 (문자열 → 파이썬 객체)\n",
    "print(\"\\n[원본 데이터] JSON 형태의 SNS 게시물\")\n",
    "semi_data = json.loads(semi_structured_json)\n",
    "json.dumps(semi_data[:2], ensure_ascii=False)"
   ]
  },
  {
   "cell_type": "code",
   "execution_count": 18,
   "id": "1bd07059",
   "metadata": {},
   "outputs": [
    {
     "data": {
      "text/html": [
       "<div>\n",
       "<style scoped>\n",
       "    .dataframe tbody tr th:only-of-type {\n",
       "        vertical-align: middle;\n",
       "    }\n",
       "\n",
       "    .dataframe tbody tr th {\n",
       "        vertical-align: top;\n",
       "    }\n",
       "\n",
       "    .dataframe thead th {\n",
       "        text-align: right;\n",
       "    }\n",
       "</style>\n",
       "<table border=\"1\" class=\"dataframe\">\n",
       "  <thead>\n",
       "    <tr style=\"text-align: right;\">\n",
       "      <th></th>\n",
       "      <th>id</th>\n",
       "      <th>username</th>\n",
       "      <th>content</th>\n",
       "      <th>likes</th>\n",
       "      <th>comments</th>\n",
       "      <th>date</th>\n",
       "    </tr>\n",
       "  </thead>\n",
       "  <tbody>\n",
       "    <tr>\n",
       "      <th>0</th>\n",
       "      <td>1</td>\n",
       "      <td>user1</td>\n",
       "      <td>안녕하세요</td>\n",
       "      <td>15</td>\n",
       "      <td>3</td>\n",
       "      <td>2024-01-01</td>\n",
       "    </tr>\n",
       "    <tr>\n",
       "      <th>1</th>\n",
       "      <td>2</td>\n",
       "      <td>user2</td>\n",
       "      <td>오늘 날씨 좋네요</td>\n",
       "      <td>42</td>\n",
       "      <td>8</td>\n",
       "      <td>2024-01-02</td>\n",
       "    </tr>\n",
       "    <tr>\n",
       "      <th>2</th>\n",
       "      <td>3</td>\n",
       "      <td>user1</td>\n",
       "      <td>새로운 프로젝트 시작했어요</td>\n",
       "      <td>28</td>\n",
       "      <td>5</td>\n",
       "      <td>2024-01-03</td>\n",
       "    </tr>\n",
       "    <tr>\n",
       "      <th>3</th>\n",
       "      <td>4</td>\n",
       "      <td>user3</td>\n",
       "      <td>데이터 분석 공부 중</td>\n",
       "      <td>35</td>\n",
       "      <td>7</td>\n",
       "      <td>2024-01-04</td>\n",
       "    </tr>\n",
       "    <tr>\n",
       "      <th>4</th>\n",
       "      <td>5</td>\n",
       "      <td>user2</td>\n",
       "      <td>파이썬 너무 재미있어요</td>\n",
       "      <td>50</td>\n",
       "      <td>12</td>\n",
       "      <td>2024-01-05</td>\n",
       "    </tr>\n",
       "  </tbody>\n",
       "</table>\n",
       "</div>"
      ],
      "text/plain": [
       "   id username         content  likes  comments        date\n",
       "0   1    user1           안녕하세요     15         3  2024-01-01\n",
       "1   2    user2       오늘 날씨 좋네요     42         8  2024-01-02\n",
       "2   3    user1  새로운 프로젝트 시작했어요     28         5  2024-01-03\n",
       "3   4    user3     데이터 분석 공부 중     35         7  2024-01-04\n",
       "4   5    user2    파이썬 너무 재미있어요     50        12  2024-01-05"
      ]
     },
     "execution_count": 18,
     "metadata": {},
     "output_type": "execute_result"
    }
   ],
   "source": [
    "# JSON을 DataFrame으로 변환\n",
    "df_semi = pd.DataFrame(semi_data)\n",
    "df_semi"
   ]
  },
  {
   "cell_type": "markdown",
   "id": "e94ccacb",
   "metadata": {},
   "source": [
    "### 전처리"
   ]
  },
  {
   "cell_type": "code",
   "execution_count": 19,
   "id": "f62d1055",
   "metadata": {},
   "outputs": [
    {
     "data": {
      "text/plain": [
       "id           int64\n",
       "username    object\n",
       "content     object\n",
       "likes        int64\n",
       "comments     int64\n",
       "date        object\n",
       "dtype: object"
      ]
     },
     "execution_count": 19,
     "metadata": {},
     "output_type": "execute_result"
    }
   ],
   "source": [
    "df_semi.dtypes"
   ]
  },
  {
   "cell_type": "code",
   "execution_count": 20,
   "id": "cbb51181",
   "metadata": {},
   "outputs": [
    {
     "name": "stdout",
     "output_type": "stream",
     "text": [
      "\n",
      "데이터 타입 변환\n"
     ]
    },
    {
     "data": {
      "text/plain": [
       "id                   int64\n",
       "username            object\n",
       "content             object\n",
       "likes                int64\n",
       "comments             int64\n",
       "date        datetime64[ns]\n",
       "dtype: object"
      ]
     },
     "execution_count": 20,
     "metadata": {},
     "output_type": "execute_result"
    }
   ],
   "source": [
    "# 데이터 타입 변환\n",
    "print(\"\\n데이터 타입 변환\")\n",
    "df_semi['date'] = pd.to_datetime(df_semi['date'])  # 문자열 → 날짜\n",
    "\n",
    "df_semi.dtypes"
   ]
  },
  {
   "cell_type": "code",
   "execution_count": 21,
   "id": "2d8215d6",
   "metadata": {},
   "outputs": [
    {
     "data": {
      "text/html": [
       "<div>\n",
       "<style scoped>\n",
       "    .dataframe tbody tr th:only-of-type {\n",
       "        vertical-align: middle;\n",
       "    }\n",
       "\n",
       "    .dataframe tbody tr th {\n",
       "        vertical-align: top;\n",
       "    }\n",
       "\n",
       "    .dataframe thead th {\n",
       "        text-align: right;\n",
       "    }\n",
       "</style>\n",
       "<table border=\"1\" class=\"dataframe\">\n",
       "  <thead>\n",
       "    <tr style=\"text-align: right;\">\n",
       "      <th></th>\n",
       "      <th>id</th>\n",
       "      <th>username</th>\n",
       "      <th>content</th>\n",
       "      <th>likes</th>\n",
       "      <th>comments</th>\n",
       "      <th>date</th>\n",
       "      <th>engagement_rate</th>\n",
       "    </tr>\n",
       "  </thead>\n",
       "  <tbody>\n",
       "    <tr>\n",
       "      <th>0</th>\n",
       "      <td>1</td>\n",
       "      <td>user1</td>\n",
       "      <td>안녕하세요</td>\n",
       "      <td>15</td>\n",
       "      <td>3</td>\n",
       "      <td>2024-01-01</td>\n",
       "      <td>1.8</td>\n",
       "    </tr>\n",
       "    <tr>\n",
       "      <th>1</th>\n",
       "      <td>2</td>\n",
       "      <td>user2</td>\n",
       "      <td>오늘 날씨 좋네요</td>\n",
       "      <td>42</td>\n",
       "      <td>8</td>\n",
       "      <td>2024-01-02</td>\n",
       "      <td>5.0</td>\n",
       "    </tr>\n",
       "    <tr>\n",
       "      <th>2</th>\n",
       "      <td>3</td>\n",
       "      <td>user1</td>\n",
       "      <td>새로운 프로젝트 시작했어요</td>\n",
       "      <td>28</td>\n",
       "      <td>5</td>\n",
       "      <td>2024-01-03</td>\n",
       "      <td>3.3</td>\n",
       "    </tr>\n",
       "    <tr>\n",
       "      <th>3</th>\n",
       "      <td>4</td>\n",
       "      <td>user3</td>\n",
       "      <td>데이터 분석 공부 중</td>\n",
       "      <td>35</td>\n",
       "      <td>7</td>\n",
       "      <td>2024-01-04</td>\n",
       "      <td>4.2</td>\n",
       "    </tr>\n",
       "    <tr>\n",
       "      <th>4</th>\n",
       "      <td>5</td>\n",
       "      <td>user2</td>\n",
       "      <td>파이썬 너무 재미있어요</td>\n",
       "      <td>50</td>\n",
       "      <td>12</td>\n",
       "      <td>2024-01-05</td>\n",
       "      <td>6.2</td>\n",
       "    </tr>\n",
       "  </tbody>\n",
       "</table>\n",
       "</div>"
      ],
      "text/plain": [
       "   id username         content  likes  comments       date  engagement_rate\n",
       "0   1    user1           안녕하세요     15         3 2024-01-01              1.8\n",
       "1   2    user2       오늘 날씨 좋네요     42         8 2024-01-02              5.0\n",
       "2   3    user1  새로운 프로젝트 시작했어요     28         5 2024-01-03              3.3\n",
       "3   4    user3     데이터 분석 공부 중     35         7 2024-01-04              4.2\n",
       "4   5    user2    파이썬 너무 재미있어요     50        12 2024-01-05              6.2"
      ]
     },
     "execution_count": 21,
     "metadata": {},
     "output_type": "execute_result"
    }
   ],
   "source": [
    "df_semi['engagement_rate'] = (df_semi['likes'] + df_semi['comments']) / 10  # 새 컬럼 생성\n",
    "df_semi"
   ]
  },
  {
   "cell_type": "markdown",
   "id": "42fa4b85",
   "metadata": {},
   "source": [
    "### 분석"
   ]
  },
  {
   "cell_type": "code",
   "execution_count": 22,
   "id": "2b7acebf",
   "metadata": {},
   "outputs": [
    {
     "name": "stdout",
     "output_type": "stream",
     "text": [
      "\n",
      "게시물 길이 분석\n"
     ]
    },
    {
     "data": {
      "text/html": [
       "<div>\n",
       "<style scoped>\n",
       "    .dataframe tbody tr th:only-of-type {\n",
       "        vertical-align: middle;\n",
       "    }\n",
       "\n",
       "    .dataframe tbody tr th {\n",
       "        vertical-align: top;\n",
       "    }\n",
       "\n",
       "    .dataframe thead th {\n",
       "        text-align: right;\n",
       "    }\n",
       "</style>\n",
       "<table border=\"1\" class=\"dataframe\">\n",
       "  <thead>\n",
       "    <tr style=\"text-align: right;\">\n",
       "      <th></th>\n",
       "      <th>username</th>\n",
       "      <th>content</th>\n",
       "      <th>content_length</th>\n",
       "    </tr>\n",
       "  </thead>\n",
       "  <tbody>\n",
       "    <tr>\n",
       "      <th>0</th>\n",
       "      <td>user1</td>\n",
       "      <td>안녕하세요</td>\n",
       "      <td>5</td>\n",
       "    </tr>\n",
       "    <tr>\n",
       "      <th>1</th>\n",
       "      <td>user2</td>\n",
       "      <td>오늘 날씨 좋네요</td>\n",
       "      <td>9</td>\n",
       "    </tr>\n",
       "    <tr>\n",
       "      <th>2</th>\n",
       "      <td>user1</td>\n",
       "      <td>새로운 프로젝트 시작했어요</td>\n",
       "      <td>14</td>\n",
       "    </tr>\n",
       "    <tr>\n",
       "      <th>3</th>\n",
       "      <td>user3</td>\n",
       "      <td>데이터 분석 공부 중</td>\n",
       "      <td>11</td>\n",
       "    </tr>\n",
       "    <tr>\n",
       "      <th>4</th>\n",
       "      <td>user2</td>\n",
       "      <td>파이썬 너무 재미있어요</td>\n",
       "      <td>12</td>\n",
       "    </tr>\n",
       "  </tbody>\n",
       "</table>\n",
       "</div>"
      ],
      "text/plain": [
       "  username         content  content_length\n",
       "0    user1           안녕하세요               5\n",
       "1    user2       오늘 날씨 좋네요               9\n",
       "2    user1  새로운 프로젝트 시작했어요              14\n",
       "3    user3     데이터 분석 공부 중              11\n",
       "4    user2    파이썬 너무 재미있어요              12"
      ]
     },
     "execution_count": 22,
     "metadata": {},
     "output_type": "execute_result"
    }
   ],
   "source": [
    "# 텍스트 길이 계산\n",
    "print(\"\\n게시물 길이 분석\")\n",
    "df_semi['content_length'] = df_semi['content'].str.len()\n",
    "df_semi[['username', 'content', 'content_length']]"
   ]
  },
  {
   "cell_type": "code",
   "execution_count": 23,
   "id": "392f60ac",
   "metadata": {},
   "outputs": [
    {
     "name": "stdout",
     "output_type": "stream",
     "text": [
      "\n",
      "사용자별 활동 통계\n"
     ]
    },
    {
     "data": {
      "text/html": [
       "<div>\n",
       "<style scoped>\n",
       "    .dataframe tbody tr th:only-of-type {\n",
       "        vertical-align: middle;\n",
       "    }\n",
       "\n",
       "    .dataframe tbody tr th {\n",
       "        vertical-align: top;\n",
       "    }\n",
       "\n",
       "    .dataframe thead th {\n",
       "        text-align: right;\n",
       "    }\n",
       "</style>\n",
       "<table border=\"1\" class=\"dataframe\">\n",
       "  <thead>\n",
       "    <tr style=\"text-align: right;\">\n",
       "      <th></th>\n",
       "      <th>게시물_수</th>\n",
       "      <th>likes</th>\n",
       "      <th>comments</th>\n",
       "      <th>content_length</th>\n",
       "    </tr>\n",
       "    <tr>\n",
       "      <th>username</th>\n",
       "      <th></th>\n",
       "      <th></th>\n",
       "      <th></th>\n",
       "      <th></th>\n",
       "    </tr>\n",
       "  </thead>\n",
       "  <tbody>\n",
       "    <tr>\n",
       "      <th>user1</th>\n",
       "      <td>2</td>\n",
       "      <td>43</td>\n",
       "      <td>8</td>\n",
       "      <td>9.5</td>\n",
       "    </tr>\n",
       "    <tr>\n",
       "      <th>user2</th>\n",
       "      <td>2</td>\n",
       "      <td>92</td>\n",
       "      <td>20</td>\n",
       "      <td>10.5</td>\n",
       "    </tr>\n",
       "    <tr>\n",
       "      <th>user3</th>\n",
       "      <td>1</td>\n",
       "      <td>35</td>\n",
       "      <td>7</td>\n",
       "      <td>11.0</td>\n",
       "    </tr>\n",
       "  </tbody>\n",
       "</table>\n",
       "</div>"
      ],
      "text/plain": [
       "          게시물_수  likes  comments  content_length\n",
       "username                                        \n",
       "user1         2     43         8             9.5\n",
       "user2         2     92        20            10.5\n",
       "user3         1     35         7            11.0"
      ]
     },
     "execution_count": 23,
     "metadata": {},
     "output_type": "execute_result"
    }
   ],
   "source": [
    "# 사용자별 활동 분석\n",
    "print(\"\\n사용자별 활동 통계\")\n",
    "user_stats = df_semi.groupby('username').agg({\n",
    "    'id': 'count',\n",
    "    'likes': 'sum',\n",
    "    'comments': 'sum',\n",
    "    'content_length': 'mean'\n",
    "}).rename(columns={'id': '게시물_수'})\n",
    "user_stats = user_stats.round(1)\n",
    "user_stats"
   ]
  },
  {
   "cell_type": "code",
   "execution_count": 24,
   "id": "3e9f676b",
   "metadata": {},
   "outputs": [
    {
     "name": "stdout",
     "output_type": "stream",
     "text": [
      "\n",
      "상호작용 분석\n",
      "평균 좋아요: 34.0\n",
      "평균 댓글: 7.0\n",
      "가장 인기 많은 게시물: '파이썬 너무 재미있어요' (50 likes)\n"
     ]
    }
   ],
   "source": [
    "# 상호작용 분석 (좋아요 vs 댓글)\n",
    "print(\"\\n상호작용 분석\")\n",
    "print(f\"평균 좋아요: {df_semi['likes'].mean():.1f}\")\n",
    "print(f\"평균 댓글: {df_semi['comments'].mean():.1f}\")\n",
    "print(f\"가장 인기 많은 게시물: '{df_semi.loc[df_semi['likes'].idxmax(), 'content']}' ({df_semi['likes'].max()} likes)\")"
   ]
  },
  {
   "cell_type": "code",
   "execution_count": 25,
   "id": "4d98e2b4",
   "metadata": {},
   "outputs": [
    {
     "name": "stdout",
     "output_type": "stream",
     "text": [
      "\n",
      "날짜별 좋아요 트렌드\n"
     ]
    },
    {
     "data": {
      "text/plain": [
       "date\n",
       "2024-01-01    15\n",
       "2024-01-02    42\n",
       "2024-01-03    28\n",
       "2024-01-04    35\n",
       "2024-01-05    50\n",
       "Name: likes, dtype: int64"
      ]
     },
     "execution_count": 25,
     "metadata": {},
     "output_type": "execute_result"
    }
   ],
   "source": [
    "# 시간 분석 (날짜별 트렌드)\n",
    "print(\"\\n날짜별 좋아요 트렌드\")\n",
    "date_trend = df_semi.groupby('date')['likes'].sum()\n",
    "date_trend"
   ]
  },
  {
   "cell_type": "markdown",
   "id": "b4046ba7",
   "metadata": {},
   "source": [
    "## ✔️ 비정형데이터(Unstructured Data) - 텍스트 데이터"
   ]
  },
  {
   "cell_type": "code",
   "execution_count": 26,
   "id": "4f3a0eba",
   "metadata": {},
   "outputs": [
    {
     "name": "stdout",
     "output_type": "stream",
     "text": [
      "\n",
      "[원본 데이터] 상품 리뷰 텍스트\n"
     ]
    },
    {
     "data": {
      "text/html": [
       "<div>\n",
       "<style scoped>\n",
       "    .dataframe tbody tr th:only-of-type {\n",
       "        vertical-align: middle;\n",
       "    }\n",
       "\n",
       "    .dataframe tbody tr th {\n",
       "        vertical-align: top;\n",
       "    }\n",
       "\n",
       "    .dataframe thead th {\n",
       "        text-align: right;\n",
       "    }\n",
       "</style>\n",
       "<table border=\"1\" class=\"dataframe\">\n",
       "  <thead>\n",
       "    <tr style=\"text-align: right;\">\n",
       "      <th></th>\n",
       "      <th>review</th>\n",
       "      <th>rating</th>\n",
       "    </tr>\n",
       "  </thead>\n",
       "  <tbody>\n",
       "    <tr>\n",
       "      <th>0</th>\n",
       "      <td>이 제품은 정말 좋습니다. 가격도 저렴하고 품질도 우수합니다.</td>\n",
       "      <td>5</td>\n",
       "    </tr>\n",
       "    <tr>\n",
       "      <th>1</th>\n",
       "      <td>품질이 형편없네요. 돈 낭비였습니다;;;</td>\n",
       "      <td>1</td>\n",
       "    </tr>\n",
       "    <tr>\n",
       "      <th>2</th>\n",
       "      <td>좋습니다. 배송도 빠르고 고객 서비스도 훌륭합니다^^</td>\n",
       "      <td>5</td>\n",
       "    </tr>\n",
       "    <tr>\n",
       "      <th>3</th>\n",
       "      <td>그냥 그래요. 평범한 제품입니다.</td>\n",
       "      <td>3</td>\n",
       "    </tr>\n",
       "    <tr>\n",
       "      <th>4</th>\n",
       "      <td>최고 최고! 또 사고 싶어요. 강력 추천합니다!</td>\n",
       "      <td>5</td>\n",
       "    </tr>\n",
       "    <tr>\n",
       "      <th>5</th>\n",
       "      <td>배송은 빨랐지만 제품이 망가져 있었어요ㅠㅠ</td>\n",
       "      <td>2</td>\n",
       "    </tr>\n",
       "    <tr>\n",
       "      <th>6</th>\n",
       "      <td>가격 대비 품질이 좋습니다. 만족합니다ㅎㅎ</td>\n",
       "      <td>4</td>\n",
       "    </tr>\n",
       "    <tr>\n",
       "      <th>7</th>\n",
       "      <td>별로예요. 기대보다 못 했습니다.</td>\n",
       "      <td>2</td>\n",
       "    </tr>\n",
       "  </tbody>\n",
       "</table>\n",
       "</div>"
      ],
      "text/plain": [
       "                               review  rating\n",
       "0  이 제품은 정말 좋습니다. 가격도 저렴하고 품질도 우수합니다.       5\n",
       "1              품질이 형편없네요. 돈 낭비였습니다;;;       1\n",
       "2       좋습니다. 배송도 빠르고 고객 서비스도 훌륭합니다^^       5\n",
       "3                  그냥 그래요. 평범한 제품입니다.       3\n",
       "4          최고 최고! 또 사고 싶어요. 강력 추천합니다!       5\n",
       "5             배송은 빨랐지만 제품이 망가져 있었어요ㅠㅠ       2\n",
       "6             가격 대비 품질이 좋습니다. 만족합니다ㅎㅎ       4\n",
       "7                  별로예요. 기대보다 못 했습니다.       2"
      ]
     },
     "execution_count": 26,
     "metadata": {},
     "output_type": "execute_result"
    }
   ],
   "source": [
    "# 비정형데이터 예시: 상품 리뷰 텍스트 데이터\n",
    "unstructured_data = {\n",
    "    'review': [\n",
    "        '이 제품은 정말 좋습니다. 가격도 저렴하고 품질도 우수합니다.',\n",
    "        '품질이 형편없네요. 돈 낭비였습니다;;;',\n",
    "        '좋습니다. 배송도 빠르고 고객 서비스도 훌륭합니다^^',\n",
    "        '그냥 그래요. 평범한 제품입니다.',\n",
    "        '최고 최고! 또 사고 싶어요. 강력 추천합니다!',\n",
    "        '배송은 빨랐지만 제품이 망가져 있었어요ㅠㅠ',\n",
    "        '가격 대비 품질이 좋습니다. 만족합니다ㅎㅎ',\n",
    "        '별로예요. 기대보다 못 했습니다.'\n",
    "    ],\n",
    "    'rating': [5, 1, 5, 3, 5, 2, 4, 2]\n",
    "}\n",
    "\n",
    "df_unstructured = pd.DataFrame(unstructured_data)\n",
    "\n",
    "print(\"\\n[원본 데이터] 상품 리뷰 텍스트\")\n",
    "df_unstructured"
   ]
  },
  {
   "cell_type": "markdown",
   "id": "968c5082",
   "metadata": {},
   "source": [
    "### 전처리"
   ]
  },
  {
   "cell_type": "code",
   "execution_count": 28,
   "id": "26680b08",
   "metadata": {},
   "outputs": [
    {
     "name": "stdout",
     "output_type": "stream",
     "text": [
      "\n",
      "텍스트 정규화\n"
     ]
    },
    {
     "data": {
      "text/html": [
       "<div>\n",
       "<style scoped>\n",
       "    .dataframe tbody tr th:only-of-type {\n",
       "        vertical-align: middle;\n",
       "    }\n",
       "\n",
       "    .dataframe tbody tr th {\n",
       "        vertical-align: top;\n",
       "    }\n",
       "\n",
       "    .dataframe thead th {\n",
       "        text-align: right;\n",
       "    }\n",
       "</style>\n",
       "<table border=\"1\" class=\"dataframe\">\n",
       "  <thead>\n",
       "    <tr style=\"text-align: right;\">\n",
       "      <th></th>\n",
       "      <th>review</th>\n",
       "      <th>review_cleaned</th>\n",
       "    </tr>\n",
       "  </thead>\n",
       "  <tbody>\n",
       "    <tr>\n",
       "      <th>0</th>\n",
       "      <td>이 제품은 정말 좋습니다. 가격도 저렴하고 품질도 우수합니다.</td>\n",
       "      <td>이 제품은 정말 좋습니다 가격도 저렴하고 품질도 우수합니다</td>\n",
       "    </tr>\n",
       "    <tr>\n",
       "      <th>1</th>\n",
       "      <td>품질이 형편없네요. 돈 낭비였습니다;;;</td>\n",
       "      <td>품질이 형편없네요 돈 낭비였습니다 슬픔</td>\n",
       "    </tr>\n",
       "    <tr>\n",
       "      <th>2</th>\n",
       "      <td>좋습니다. 배송도 빠르고 고객 서비스도 훌륭합니다^^</td>\n",
       "      <td>좋습니다 배송도 빠르고 고객 서비스도 훌륭합니다 웃음</td>\n",
       "    </tr>\n",
       "    <tr>\n",
       "      <th>3</th>\n",
       "      <td>그냥 그래요. 평범한 제품입니다.</td>\n",
       "      <td>그냥 그래요 평범한 제품입니다</td>\n",
       "    </tr>\n",
       "    <tr>\n",
       "      <th>4</th>\n",
       "      <td>최고 최고! 또 사고 싶어요. 강력 추천합니다!</td>\n",
       "      <td>최고 최고 또 사고 싶어요 강력 추천합니다</td>\n",
       "    </tr>\n",
       "    <tr>\n",
       "      <th>5</th>\n",
       "      <td>배송은 빨랐지만 제품이 망가져 있었어요ㅠㅠ</td>\n",
       "      <td>배송은 빨랐지만 제품이 망가져 있었어요 슬픔</td>\n",
       "    </tr>\n",
       "    <tr>\n",
       "      <th>6</th>\n",
       "      <td>가격 대비 품질이 좋습니다. 만족합니다ㅎㅎ</td>\n",
       "      <td>가격 대비 품질이 좋습니다 만족합니다 웃음</td>\n",
       "    </tr>\n",
       "    <tr>\n",
       "      <th>7</th>\n",
       "      <td>별로예요. 기대보다 못 했습니다.</td>\n",
       "      <td>별로예요 기대보다 못 했습니다</td>\n",
       "    </tr>\n",
       "  </tbody>\n",
       "</table>\n",
       "</div>"
      ],
      "text/plain": [
       "                               review                    review_cleaned\n",
       "0  이 제품은 정말 좋습니다. 가격도 저렴하고 품질도 우수합니다.  이 제품은 정말 좋습니다 가격도 저렴하고 품질도 우수합니다\n",
       "1              품질이 형편없네요. 돈 낭비였습니다;;;            품질이 형편없네요 돈 낭비였습니다 슬픔 \n",
       "2       좋습니다. 배송도 빠르고 고객 서비스도 훌륭합니다^^    좋습니다 배송도 빠르고 고객 서비스도 훌륭합니다 웃음 \n",
       "3                  그냥 그래요. 평범한 제품입니다.                  그냥 그래요 평범한 제품입니다\n",
       "4          최고 최고! 또 사고 싶어요. 강력 추천합니다!           최고 최고 또 사고 싶어요 강력 추천합니다\n",
       "5             배송은 빨랐지만 제품이 망가져 있었어요ㅠㅠ         배송은 빨랐지만 제품이 망가져 있었어요 슬픔 \n",
       "6             가격 대비 품질이 좋습니다. 만족합니다ㅎㅎ          가격 대비 품질이 좋습니다 만족합니다 웃음 \n",
       "7                  별로예요. 기대보다 못 했습니다.                  별로예요 기대보다 못 했습니다"
      ]
     },
     "execution_count": 28,
     "metadata": {},
     "output_type": "execute_result"
    }
   ],
   "source": [
    "# 텍스트 정규화 (소문자, 특수문자 제거)\n",
    "print(\"\\n텍스트 정규화\")\n",
    "df_unstructured['review_cleaned'] = df_unstructured['review'].str.lower()\n",
    "\n",
    "# 한글은 유지하고 특수문자만 제거\n",
    "df_unstructured['review_cleaned'] = df_unstructured['review_cleaned'].apply(\n",
    "    lambda x: re.sub(r'[^가-힣a-zA-Z0-9\\s]', '', \n",
    "             re.sub(r'[ㅎㅋ^]+', ' 웃음 ', \n",
    "             re.sub(r'[ㅠㅜ;]+', ' 슬픔 ', x)))\n",
    ")\n",
    "\n",
    "df_unstructured[['review', 'review_cleaned']]"
   ]
  },
  {
   "cell_type": "code",
   "execution_count": 29,
   "id": "7891219d",
   "metadata": {},
   "outputs": [
    {
     "name": "stdout",
     "output_type": "stream",
     "text": [
      "\n",
      "단어 분리 및 키워드 추출\n"
     ]
    },
    {
     "data": {
      "text/html": [
       "<div>\n",
       "<style scoped>\n",
       "    .dataframe tbody tr th:only-of-type {\n",
       "        vertical-align: middle;\n",
       "    }\n",
       "\n",
       "    .dataframe tbody tr th {\n",
       "        vertical-align: top;\n",
       "    }\n",
       "\n",
       "    .dataframe thead th {\n",
       "        text-align: right;\n",
       "    }\n",
       "</style>\n",
       "<table border=\"1\" class=\"dataframe\">\n",
       "  <thead>\n",
       "    <tr style=\"text-align: right;\">\n",
       "      <th></th>\n",
       "      <th>review</th>\n",
       "      <th>positive_count</th>\n",
       "      <th>negative_count</th>\n",
       "    </tr>\n",
       "  </thead>\n",
       "  <tbody>\n",
       "    <tr>\n",
       "      <th>0</th>\n",
       "      <td>이 제품은 정말 좋습니다. 가격도 저렴하고 품질도 우수합니다.</td>\n",
       "      <td>2</td>\n",
       "      <td>0</td>\n",
       "    </tr>\n",
       "    <tr>\n",
       "      <th>1</th>\n",
       "      <td>품질이 형편없네요. 돈 낭비였습니다;;;</td>\n",
       "      <td>0</td>\n",
       "      <td>3</td>\n",
       "    </tr>\n",
       "    <tr>\n",
       "      <th>2</th>\n",
       "      <td>좋습니다. 배송도 빠르고 고객 서비스도 훌륭합니다^^</td>\n",
       "      <td>3</td>\n",
       "      <td>0</td>\n",
       "    </tr>\n",
       "    <tr>\n",
       "      <th>3</th>\n",
       "      <td>그냥 그래요. 평범한 제품입니다.</td>\n",
       "      <td>0</td>\n",
       "      <td>0</td>\n",
       "    </tr>\n",
       "    <tr>\n",
       "      <th>4</th>\n",
       "      <td>최고 최고! 또 사고 싶어요. 강력 추천합니다!</td>\n",
       "      <td>2</td>\n",
       "      <td>0</td>\n",
       "    </tr>\n",
       "    <tr>\n",
       "      <th>5</th>\n",
       "      <td>배송은 빨랐지만 제품이 망가져 있었어요ㅠㅠ</td>\n",
       "      <td>0</td>\n",
       "      <td>2</td>\n",
       "    </tr>\n",
       "    <tr>\n",
       "      <th>6</th>\n",
       "      <td>가격 대비 품질이 좋습니다. 만족합니다ㅎㅎ</td>\n",
       "      <td>3</td>\n",
       "      <td>0</td>\n",
       "    </tr>\n",
       "    <tr>\n",
       "      <th>7</th>\n",
       "      <td>별로예요. 기대보다 못 했습니다.</td>\n",
       "      <td>0</td>\n",
       "      <td>2</td>\n",
       "    </tr>\n",
       "  </tbody>\n",
       "</table>\n",
       "</div>"
      ],
      "text/plain": [
       "                               review  positive_count  negative_count\n",
       "0  이 제품은 정말 좋습니다. 가격도 저렴하고 품질도 우수합니다.               2               0\n",
       "1              품질이 형편없네요. 돈 낭비였습니다;;;               0               3\n",
       "2       좋습니다. 배송도 빠르고 고객 서비스도 훌륭합니다^^               3               0\n",
       "3                  그냥 그래요. 평범한 제품입니다.               0               0\n",
       "4          최고 최고! 또 사고 싶어요. 강력 추천합니다!               2               0\n",
       "5             배송은 빨랐지만 제품이 망가져 있었어요ㅠㅠ               0               2\n",
       "6             가격 대비 품질이 좋습니다. 만족합니다ㅎㅎ               3               0\n",
       "7                  별로예요. 기대보다 못 했습니다.               0               2"
      ]
     },
     "execution_count": 29,
     "metadata": {},
     "output_type": "execute_result"
    }
   ],
   "source": [
    "# 단어 분리 (토큰화)\n",
    "print(\"\\n단어 분리 및 키워드 추출\")\n",
    "\n",
    "# 긍정 키워드, 부정 키워드 정의\n",
    "positive_words = ['좋', '우수', '훌륭', '최고', '강력', '만족', '웃음']\n",
    "negative_words = ['형편없', '낭비', '별로', '망가', '못', '슬픔']\n",
    "\n",
    "df_unstructured['positive_count'] = df_unstructured['review_cleaned'].apply(\n",
    "    lambda x: sum(1 for word in positive_words if word in x)\n",
    ")\n",
    "\n",
    "df_unstructured['negative_count'] = df_unstructured['review_cleaned'].apply(\n",
    "    lambda x: sum(1 for word in negative_words if word in x)\n",
    ")\n",
    "\n",
    "df_unstructured[['review', 'positive_count', 'negative_count']]"
   ]
  },
  {
   "cell_type": "markdown",
   "id": "0cf281d0",
   "metadata": {},
   "source": [
    "### 분석"
   ]
  },
  {
   "cell_type": "code",
   "execution_count": 30,
   "id": "4ee3c7d7",
   "metadata": {},
   "outputs": [
    {
     "name": "stdout",
     "output_type": "stream",
     "text": [
      "\n",
      "평점 분포 분석\n",
      "평점별 리뷰 개수:\n",
      "  5점: ★★★★★ (3개)\n",
      "  4점: ★★★★ (1개)\n",
      "  3점: ★★★ (1개)\n",
      "  2점: ★★ (2개)\n",
      "  1점: ★ (1개)\n",
      "\n",
      "평균 평점: 3.38점\n"
     ]
    }
   ],
   "source": [
    "# 평점 분포 분석\n",
    "print(\"\\n평점 분포 분석\")\n",
    "rating_distribution = df_unstructured['rating'].value_counts().sort_index(ascending=False)\n",
    "print(\"평점별 리뷰 개수:\")\n",
    "for rating, count in rating_distribution.items():\n",
    "    print(f\"  {rating}점: {'★' * rating} ({count}개)\")\n",
    "print(f\"\\n평균 평점: {df_unstructured['rating'].mean():.2f}점\")"
   ]
  },
  {
   "cell_type": "code",
   "execution_count": 31,
   "id": "717b9bf2",
   "metadata": {},
   "outputs": [
    {
     "name": "stdout",
     "output_type": "stream",
     "text": [
      "\n",
      "감정 분석\n",
      "긍정: 4개\n",
      "부정: 3개\n",
      "중립: 1개\n"
     ]
    }
   ],
   "source": [
    "# 감정 분석 (긍정/부정)\n",
    "print(\"\\n감정 분석\")\n",
    "df_unstructured['sentiment'] = df_unstructured.apply(\n",
    "    lambda row: '긍정' if row['positive_count'] > row['negative_count'] else ('부정' if row['negative_count'] > row['positive_count'] else '중립'),\n",
    "    axis=1\n",
    ")\n",
    "sentiment_count = df_unstructured['sentiment'].value_counts()\n",
    "print(f\"긍정: {sentiment_count.get('긍정', 0)}개\")\n",
    "print(f\"부정: {sentiment_count.get('부정', 0)}개\")\n",
    "print(f\"중립: {sentiment_count.get('중립', 0)}개\")"
   ]
  },
  {
   "cell_type": "code",
   "execution_count": 32,
   "id": "ea213c87",
   "metadata": {},
   "outputs": [
    {
     "name": "stdout",
     "output_type": "stream",
     "text": [
      "\n",
      "평점과 감정의 연관성\n",
      "rating     1  2  3  4  5\n",
      "sentiment               \n",
      "긍정         0  0  0  1  3\n",
      "부정         1  2  0  0  0\n",
      "중립         0  0  1  0  0\n",
      "\n",
      "긍정 리뷰의 평균 평점: 4.75점\n",
      "부정 리뷰의 평균 평점: 1.67점\n"
     ]
    }
   ],
   "source": [
    "# 평점과 감정의 연관성\n",
    "print(\"\\n평점과 감정의 연관성\")\n",
    "sentiment_rating = pd.crosstab(df_unstructured['sentiment'], df_unstructured['rating'])\n",
    "print(sentiment_rating)\n",
    "print(f\"\\n긍정 리뷰의 평균 평점: {df_unstructured[df_unstructured['sentiment'] == '긍정']['rating'].mean():.2f}점\")\n",
    "print(f\"부정 리뷰의 평균 평점: {df_unstructured[df_unstructured['sentiment'] == '부정']['rating'].mean():.2f}점\")"
   ]
  },
  {
   "cell_type": "markdown",
   "id": "8d1a39f4",
   "metadata": {},
   "source": [
    "## ✔️ 비정형데이터(Unstructured Data) - 텍스트 데이터"
   ]
  },
  {
   "cell_type": "code",
   "execution_count": 33,
   "id": "0cd92787",
   "metadata": {},
   "outputs": [
    {
     "data": {
      "text/html": [
       "<div>\n",
       "<style scoped>\n",
       "    .dataframe tbody tr th:only-of-type {\n",
       "        vertical-align: middle;\n",
       "    }\n",
       "\n",
       "    .dataframe tbody tr th {\n",
       "        vertical-align: top;\n",
       "    }\n",
       "\n",
       "    .dataframe thead th {\n",
       "        text-align: right;\n",
       "    }\n",
       "</style>\n",
       "<table border=\"1\" class=\"dataframe\">\n",
       "  <thead>\n",
       "    <tr style=\"text-align: right;\">\n",
       "      <th></th>\n",
       "      <th>title</th>\n",
       "      <th>category</th>\n",
       "      <th>publisher</th>\n",
       "      <th>viewCount</th>\n",
       "      <th>likeCount</th>\n",
       "      <th>publishedDate</th>\n",
       "    </tr>\n",
       "  </thead>\n",
       "  <tbody>\n",
       "    <tr>\n",
       "      <th>0</th>\n",
       "      <td>AI 기술, 산업 전반으로 확산</td>\n",
       "      <td>IT/과학</td>\n",
       "      <td>연합뉴스</td>\n",
       "      <td>12500</td>\n",
       "      <td>320</td>\n",
       "      <td>2023-02-10</td>\n",
       "    </tr>\n",
       "    <tr>\n",
       "      <th>1</th>\n",
       "      <td>삼성전자, 반도체 실적 회복 기대</td>\n",
       "      <td>경제</td>\n",
       "      <td>한국경제</td>\n",
       "      <td>9800</td>\n",
       "      <td>210</td>\n",
       "      <td>2023-02-12</td>\n",
       "    </tr>\n",
       "    <tr>\n",
       "      <th>2</th>\n",
       "      <td>부동산 시장, 금리 인하로 회복세</td>\n",
       "      <td>경제</td>\n",
       "      <td>머니투데이</td>\n",
       "      <td>11200</td>\n",
       "      <td>260</td>\n",
       "      <td>2023-03-05</td>\n",
       "    </tr>\n",
       "    <tr>\n",
       "      <th>3</th>\n",
       "      <td>테슬라, 신형 전기차 공개</td>\n",
       "      <td>IT/과학</td>\n",
       "      <td>전자신문</td>\n",
       "      <td>15400</td>\n",
       "      <td>450</td>\n",
       "      <td>2023-04-01</td>\n",
       "    </tr>\n",
       "    <tr>\n",
       "      <th>4</th>\n",
       "      <td>정부, 탄소중립 정책 강화</td>\n",
       "      <td>사회</td>\n",
       "      <td>조선일보</td>\n",
       "      <td>7600</td>\n",
       "      <td>190</td>\n",
       "      <td>2023-05-11</td>\n",
       "    </tr>\n",
       "  </tbody>\n",
       "</table>\n",
       "</div>"
      ],
      "text/plain": [
       "                title category publisher  viewCount  likeCount publishedDate\n",
       "0   AI 기술, 산업 전반으로 확산    IT/과학      연합뉴스      12500        320    2023-02-10\n",
       "1  삼성전자, 반도체 실적 회복 기대       경제      한국경제       9800        210    2023-02-12\n",
       "2  부동산 시장, 금리 인하로 회복세       경제     머니투데이      11200        260    2023-03-05\n",
       "3      테슬라, 신형 전기차 공개    IT/과학      전자신문      15400        450    2023-04-01\n",
       "4      정부, 탄소중립 정책 강화       사회      조선일보       7600        190    2023-05-11"
      ]
     },
     "execution_count": 33,
     "metadata": {},
     "output_type": "execute_result"
    }
   ],
   "source": [
    "# 비정형데이터 예시: 뉴스 데이터\n",
    "\n",
    "data = {\n",
    "    \"title\": [\n",
    "        \"AI 기술, 산업 전반으로 확산\", \"삼성전자, 반도체 실적 회복 기대\",\n",
    "        \"부동산 시장, 금리 인하로 회복세\", \"테슬라, 신형 전기차 공개\",\n",
    "        \"정부, 탄소중립 정책 강화\", \"국내 스타트업 투자 유치 활발\",\n",
    "        \"애플, 새로운 아이폰 공개\", \"주식 시장, 외국인 매수세 확대\",\n",
    "        \"넷플릭스, 구독자 수 사상 최고\", \"전기차 배터리 산업 경쟁 치열\"\n",
    "    ],\n",
    "    \"category\": [\n",
    "        \"IT/과학\", \"경제\", \"경제\", \"IT/과학\", \"사회\", \n",
    "        \"경제\", \"IT/과학\", \"경제\", \"문화\", \"산업\"\n",
    "    ],\n",
    "    \"publisher\": [\n",
    "        \"연합뉴스\", \"한국경제\", \"머니투데이\", \"전자신문\", \"조선일보\",\n",
    "        \"서울경제\", \"ZDNet Korea\", \"매일경제\", \"중앙일보\", \"파이낸셜뉴스\"\n",
    "    ],\n",
    "    \"viewCount\": [12500, 9800, 11200, 15400, 7600, 8900, 17800, 13200, 14700, 9300],\n",
    "    \"likeCount\": [320, 210, 260, 450, 190, 230, 480, 300, 420, 250],\n",
    "    \"publishedDate\": [\n",
    "        \"2023-02-10\", \"2023-02-12\", \"2023-03-05\", \"2023-04-01\", \"2023-05-11\",\n",
    "        \"2023-06-20\", \"2023-08-15\", \"2023-09-05\", \"2023-10-21\", \"2023-11-03\"\n",
    "    ]\n",
    "}\n",
    "\n",
    "df = pd.DataFrame(data)\n",
    "df.head()"
   ]
  },
  {
   "cell_type": "markdown",
   "id": "d4191f56",
   "metadata": {},
   "source": [
    "### 전처리"
   ]
  },
  {
   "cell_type": "code",
   "execution_count": 34,
   "id": "37b47257",
   "metadata": {},
   "outputs": [
    {
     "data": {
      "text/plain": [
       "title                    object\n",
       "category                 object\n",
       "publisher                object\n",
       "viewCount                 int64\n",
       "likeCount                 int64\n",
       "publishedDate    datetime64[ns]\n",
       "dtype: object"
      ]
     },
     "execution_count": 34,
     "metadata": {},
     "output_type": "execute_result"
    }
   ],
   "source": [
    "# 데이터 타입 변환\n",
    "\n",
    "df[\"publishedDate\"] = pd.to_datetime(df[\"publishedDate\"])\n",
    "df.dtypes"
   ]
  },
  {
   "cell_type": "code",
   "execution_count": 35,
   "id": "24cf10e5",
   "metadata": {},
   "outputs": [
    {
     "data": {
      "text/html": [
       "<div>\n",
       "<style scoped>\n",
       "    .dataframe tbody tr th:only-of-type {\n",
       "        vertical-align: middle;\n",
       "    }\n",
       "\n",
       "    .dataframe tbody tr th {\n",
       "        vertical-align: top;\n",
       "    }\n",
       "\n",
       "    .dataframe thead th {\n",
       "        text-align: right;\n",
       "    }\n",
       "</style>\n",
       "<table border=\"1\" class=\"dataframe\">\n",
       "  <thead>\n",
       "    <tr style=\"text-align: right;\">\n",
       "      <th></th>\n",
       "      <th>title</th>\n",
       "      <th>category</th>\n",
       "      <th>publisher</th>\n",
       "      <th>viewCount</th>\n",
       "      <th>likeCount</th>\n",
       "      <th>publishedDate</th>\n",
       "      <th>year</th>\n",
       "      <th>month</th>\n",
       "    </tr>\n",
       "  </thead>\n",
       "  <tbody>\n",
       "    <tr>\n",
       "      <th>0</th>\n",
       "      <td>AI 기술, 산업 전반으로 확산</td>\n",
       "      <td>IT/과학</td>\n",
       "      <td>연합뉴스</td>\n",
       "      <td>12500</td>\n",
       "      <td>320</td>\n",
       "      <td>2023-02-10</td>\n",
       "      <td>2023</td>\n",
       "      <td>2</td>\n",
       "    </tr>\n",
       "    <tr>\n",
       "      <th>1</th>\n",
       "      <td>삼성전자, 반도체 실적 회복 기대</td>\n",
       "      <td>경제</td>\n",
       "      <td>한국경제</td>\n",
       "      <td>9800</td>\n",
       "      <td>210</td>\n",
       "      <td>2023-02-12</td>\n",
       "      <td>2023</td>\n",
       "      <td>2</td>\n",
       "    </tr>\n",
       "    <tr>\n",
       "      <th>2</th>\n",
       "      <td>부동산 시장, 금리 인하로 회복세</td>\n",
       "      <td>경제</td>\n",
       "      <td>머니투데이</td>\n",
       "      <td>11200</td>\n",
       "      <td>260</td>\n",
       "      <td>2023-03-05</td>\n",
       "      <td>2023</td>\n",
       "      <td>3</td>\n",
       "    </tr>\n",
       "    <tr>\n",
       "      <th>3</th>\n",
       "      <td>테슬라, 신형 전기차 공개</td>\n",
       "      <td>IT/과학</td>\n",
       "      <td>전자신문</td>\n",
       "      <td>15400</td>\n",
       "      <td>450</td>\n",
       "      <td>2023-04-01</td>\n",
       "      <td>2023</td>\n",
       "      <td>4</td>\n",
       "    </tr>\n",
       "    <tr>\n",
       "      <th>4</th>\n",
       "      <td>정부, 탄소중립 정책 강화</td>\n",
       "      <td>사회</td>\n",
       "      <td>조선일보</td>\n",
       "      <td>7600</td>\n",
       "      <td>190</td>\n",
       "      <td>2023-05-11</td>\n",
       "      <td>2023</td>\n",
       "      <td>5</td>\n",
       "    </tr>\n",
       "    <tr>\n",
       "      <th>5</th>\n",
       "      <td>국내 스타트업 투자 유치 활발</td>\n",
       "      <td>경제</td>\n",
       "      <td>서울경제</td>\n",
       "      <td>8900</td>\n",
       "      <td>230</td>\n",
       "      <td>2023-06-20</td>\n",
       "      <td>2023</td>\n",
       "      <td>6</td>\n",
       "    </tr>\n",
       "    <tr>\n",
       "      <th>6</th>\n",
       "      <td>애플, 새로운 아이폰 공개</td>\n",
       "      <td>IT/과학</td>\n",
       "      <td>ZDNet Korea</td>\n",
       "      <td>17800</td>\n",
       "      <td>480</td>\n",
       "      <td>2023-08-15</td>\n",
       "      <td>2023</td>\n",
       "      <td>8</td>\n",
       "    </tr>\n",
       "    <tr>\n",
       "      <th>7</th>\n",
       "      <td>주식 시장, 외국인 매수세 확대</td>\n",
       "      <td>경제</td>\n",
       "      <td>매일경제</td>\n",
       "      <td>13200</td>\n",
       "      <td>300</td>\n",
       "      <td>2023-09-05</td>\n",
       "      <td>2023</td>\n",
       "      <td>9</td>\n",
       "    </tr>\n",
       "    <tr>\n",
       "      <th>8</th>\n",
       "      <td>넷플릭스, 구독자 수 사상 최고</td>\n",
       "      <td>문화</td>\n",
       "      <td>중앙일보</td>\n",
       "      <td>14700</td>\n",
       "      <td>420</td>\n",
       "      <td>2023-10-21</td>\n",
       "      <td>2023</td>\n",
       "      <td>10</td>\n",
       "    </tr>\n",
       "    <tr>\n",
       "      <th>9</th>\n",
       "      <td>전기차 배터리 산업 경쟁 치열</td>\n",
       "      <td>산업</td>\n",
       "      <td>파이낸셜뉴스</td>\n",
       "      <td>9300</td>\n",
       "      <td>250</td>\n",
       "      <td>2023-11-03</td>\n",
       "      <td>2023</td>\n",
       "      <td>11</td>\n",
       "    </tr>\n",
       "  </tbody>\n",
       "</table>\n",
       "</div>"
      ],
      "text/plain": [
       "                title category    publisher  viewCount  likeCount  \\\n",
       "0   AI 기술, 산업 전반으로 확산    IT/과학         연합뉴스      12500        320   \n",
       "1  삼성전자, 반도체 실적 회복 기대       경제         한국경제       9800        210   \n",
       "2  부동산 시장, 금리 인하로 회복세       경제        머니투데이      11200        260   \n",
       "3      테슬라, 신형 전기차 공개    IT/과학         전자신문      15400        450   \n",
       "4      정부, 탄소중립 정책 강화       사회         조선일보       7600        190   \n",
       "5    국내 스타트업 투자 유치 활발       경제         서울경제       8900        230   \n",
       "6      애플, 새로운 아이폰 공개    IT/과학  ZDNet Korea      17800        480   \n",
       "7   주식 시장, 외국인 매수세 확대       경제         매일경제      13200        300   \n",
       "8   넷플릭스, 구독자 수 사상 최고       문화         중앙일보      14700        420   \n",
       "9    전기차 배터리 산업 경쟁 치열       산업       파이낸셜뉴스       9300        250   \n",
       "\n",
       "  publishedDate  year  month  \n",
       "0    2023-02-10  2023      2  \n",
       "1    2023-02-12  2023      2  \n",
       "2    2023-03-05  2023      3  \n",
       "3    2023-04-01  2023      4  \n",
       "4    2023-05-11  2023      5  \n",
       "5    2023-06-20  2023      6  \n",
       "6    2023-08-15  2023      8  \n",
       "7    2023-09-05  2023      9  \n",
       "8    2023-10-21  2023     10  \n",
       "9    2023-11-03  2023     11  "
      ]
     },
     "execution_count": 35,
     "metadata": {},
     "output_type": "execute_result"
    }
   ],
   "source": [
    "# 날짜, 연도, 월 추출\n",
    "\n",
    "df[\"year\"] = df[\"publishedDate\"].dt.year\n",
    "df[\"month\"] = df[\"publishedDate\"].dt.month\n",
    "df"
   ]
  },
  {
   "cell_type": "code",
   "execution_count": 36,
   "id": "ef71e4be",
   "metadata": {},
   "outputs": [
    {
     "data": {
      "text/plain": [
       "title            0\n",
       "category         0\n",
       "publisher        0\n",
       "viewCount        0\n",
       "likeCount        0\n",
       "publishedDate    0\n",
       "year             0\n",
       "month            0\n",
       "dtype: int64"
      ]
     },
     "metadata": {},
     "output_type": "display_data"
    }
   ],
   "source": [
    "# 결측치 확인\n",
    "\n",
    "display(df.isnull().sum())"
   ]
  },
  {
   "cell_type": "code",
   "execution_count": 37,
   "id": "11795386",
   "metadata": {},
   "outputs": [
    {
     "data": {
      "text/html": [
       "<div>\n",
       "<style scoped>\n",
       "    .dataframe tbody tr th:only-of-type {\n",
       "        vertical-align: middle;\n",
       "    }\n",
       "\n",
       "    .dataframe tbody tr th {\n",
       "        vertical-align: top;\n",
       "    }\n",
       "\n",
       "    .dataframe thead th {\n",
       "        text-align: right;\n",
       "    }\n",
       "</style>\n",
       "<table border=\"1\" class=\"dataframe\">\n",
       "  <thead>\n",
       "    <tr style=\"text-align: right;\">\n",
       "      <th></th>\n",
       "      <th>title</th>\n",
       "      <th>category</th>\n",
       "      <th>publisher</th>\n",
       "      <th>viewCount</th>\n",
       "      <th>likeCount</th>\n",
       "      <th>publishedDate</th>\n",
       "      <th>year</th>\n",
       "      <th>month</th>\n",
       "      <th>likeRate</th>\n",
       "    </tr>\n",
       "  </thead>\n",
       "  <tbody>\n",
       "    <tr>\n",
       "      <th>0</th>\n",
       "      <td>AI 기술, 산업 전반으로 확산</td>\n",
       "      <td>IT/과학</td>\n",
       "      <td>연합뉴스</td>\n",
       "      <td>12500</td>\n",
       "      <td>320</td>\n",
       "      <td>2023-02-10</td>\n",
       "      <td>2023</td>\n",
       "      <td>2</td>\n",
       "      <td>2.56</td>\n",
       "    </tr>\n",
       "    <tr>\n",
       "      <th>1</th>\n",
       "      <td>삼성전자, 반도체 실적 회복 기대</td>\n",
       "      <td>경제</td>\n",
       "      <td>한국경제</td>\n",
       "      <td>9800</td>\n",
       "      <td>210</td>\n",
       "      <td>2023-02-12</td>\n",
       "      <td>2023</td>\n",
       "      <td>2</td>\n",
       "      <td>2.14</td>\n",
       "    </tr>\n",
       "    <tr>\n",
       "      <th>2</th>\n",
       "      <td>부동산 시장, 금리 인하로 회복세</td>\n",
       "      <td>경제</td>\n",
       "      <td>머니투데이</td>\n",
       "      <td>11200</td>\n",
       "      <td>260</td>\n",
       "      <td>2023-03-05</td>\n",
       "      <td>2023</td>\n",
       "      <td>3</td>\n",
       "      <td>2.32</td>\n",
       "    </tr>\n",
       "    <tr>\n",
       "      <th>3</th>\n",
       "      <td>테슬라, 신형 전기차 공개</td>\n",
       "      <td>IT/과학</td>\n",
       "      <td>전자신문</td>\n",
       "      <td>15400</td>\n",
       "      <td>450</td>\n",
       "      <td>2023-04-01</td>\n",
       "      <td>2023</td>\n",
       "      <td>4</td>\n",
       "      <td>2.92</td>\n",
       "    </tr>\n",
       "    <tr>\n",
       "      <th>4</th>\n",
       "      <td>정부, 탄소중립 정책 강화</td>\n",
       "      <td>사회</td>\n",
       "      <td>조선일보</td>\n",
       "      <td>7600</td>\n",
       "      <td>190</td>\n",
       "      <td>2023-05-11</td>\n",
       "      <td>2023</td>\n",
       "      <td>5</td>\n",
       "      <td>2.50</td>\n",
       "    </tr>\n",
       "  </tbody>\n",
       "</table>\n",
       "</div>"
      ],
      "text/plain": [
       "                title category publisher  viewCount  likeCount publishedDate  \\\n",
       "0   AI 기술, 산업 전반으로 확산    IT/과학      연합뉴스      12500        320    2023-02-10   \n",
       "1  삼성전자, 반도체 실적 회복 기대       경제      한국경제       9800        210    2023-02-12   \n",
       "2  부동산 시장, 금리 인하로 회복세       경제     머니투데이      11200        260    2023-03-05   \n",
       "3      테슬라, 신형 전기차 공개    IT/과학      전자신문      15400        450    2023-04-01   \n",
       "4      정부, 탄소중립 정책 강화       사회      조선일보       7600        190    2023-05-11   \n",
       "\n",
       "   year  month  likeRate  \n",
       "0  2023      2      2.56  \n",
       "1  2023      2      2.14  \n",
       "2  2023      3      2.32  \n",
       "3  2023      4      2.92  \n",
       "4  2023      5      2.50  "
      ]
     },
     "execution_count": 37,
     "metadata": {},
     "output_type": "execute_result"
    }
   ],
   "source": [
    "# 새로운 변수 만들기\n",
    "\n",
    "df[\"likeRate\"] = (df[\"likeCount\"] / df[\"viewCount\"] * 100).round(2)\n",
    "df.head()"
   ]
  },
  {
   "cell_type": "code",
   "execution_count": 38,
   "id": "5c53aad8",
   "metadata": {},
   "outputs": [
    {
     "data": {
      "image/png": "[encoded data removed]",
      "text/plain": [
       "<Figure size 800x400 with 1 Axes>"
      ]
     },
     "metadata": {},
     "output_type": "display_data"
    }
   ],
   "source": [
    "# 이상치 확인\n",
    "\n",
    "import seaborn as sns\n",
    "plt.figure(figsize=(8, 4))\n",
    "sns.boxplot(data=df[[\"viewCount\", \"likeCount\"]])\n",
    "plt.title(\"조회수와 좋아요수의 이상치 확인\")\n",
    "plt.show()\n",
    "\n",
    "# 박스플롯 해석 방법\n",
    "# 1. 박스플롯의 중앙선은 데이터의 중앙값(중위수)을 나타냅니다.\n",
    "# 2. 박스의 상단과 하단은 각각 제3사분위수(Q3, 데이터의 상위 25% 지점)와 제1사분위수(Q1, 데이터의 하위 25% 지점)를 나타냅니다.\n",
    "# 3. 박스의 높이(상자 길이)는 IQR(Interquartile Range, Q3 - Q1)을 나타냅니다.\n",
    "# 4. 수염(whiskers)은 일반적으로 Q1 - 1.5*IQR과 Q3 + 1.5*IQR 범위 내의 데이터를 포함합니다.\n",
    "# 5. 수염 밖에 위치한 점들은 이상치(outliers)로 간주됩니다."
   ]
  },
  {
   "cell_type": "markdown",
   "id": "227ccd3a",
   "metadata": {},
   "source": [
    "### 탐색적 데이터 분석 (EDA)"
   ]
  },
  {
   "cell_type": "code",
   "execution_count": 39,
   "id": "aeb36d75",
   "metadata": {},
   "outputs": [
    {
     "data": {
      "text/html": [
       "<div>\n",
       "<style scoped>\n",
       "    .dataframe tbody tr th:only-of-type {\n",
       "        vertical-align: middle;\n",
       "    }\n",
       "\n",
       "    .dataframe tbody tr th {\n",
       "        vertical-align: top;\n",
       "    }\n",
       "\n",
       "    .dataframe thead th {\n",
       "        text-align: right;\n",
       "    }\n",
       "</style>\n",
       "<table border=\"1\" class=\"dataframe\">\n",
       "  <thead>\n",
       "    <tr style=\"text-align: right;\">\n",
       "      <th></th>\n",
       "      <th>viewCount</th>\n",
       "      <th>likeCount</th>\n",
       "      <th>publishedDate</th>\n",
       "      <th>year</th>\n",
       "      <th>month</th>\n",
       "      <th>likeRate</th>\n",
       "    </tr>\n",
       "  </thead>\n",
       "  <tbody>\n",
       "    <tr>\n",
       "      <th>count</th>\n",
       "      <td>10.000000</td>\n",
       "      <td>10.000000</td>\n",
       "      <td>10</td>\n",
       "      <td>10.0</td>\n",
       "      <td>10.000000</td>\n",
       "      <td>10.000000</td>\n",
       "    </tr>\n",
       "    <tr>\n",
       "      <th>mean</th>\n",
       "      <td>12040.000000</td>\n",
       "      <td>311.000000</td>\n",
       "      <td>2023-06-10 16:48:00</td>\n",
       "      <td>2023.0</td>\n",
       "      <td>6.000000</td>\n",
       "      <td>2.554000</td>\n",
       "    </tr>\n",
       "    <tr>\n",
       "      <th>min</th>\n",
       "      <td>7600.000000</td>\n",
       "      <td>190.000000</td>\n",
       "      <td>2023-02-10 00:00:00</td>\n",
       "      <td>2023.0</td>\n",
       "      <td>2.000000</td>\n",
       "      <td>2.140000</td>\n",
       "    </tr>\n",
       "    <tr>\n",
       "      <th>25%</th>\n",
       "      <td>9425.000000</td>\n",
       "      <td>235.000000</td>\n",
       "      <td>2023-03-11 18:00:00</td>\n",
       "      <td>2023.0</td>\n",
       "      <td>3.250000</td>\n",
       "      <td>2.365000</td>\n",
       "    </tr>\n",
       "    <tr>\n",
       "      <th>50%</th>\n",
       "      <td>11850.000000</td>\n",
       "      <td>280.000000</td>\n",
       "      <td>2023-05-31 00:00:00</td>\n",
       "      <td>2023.0</td>\n",
       "      <td>5.500000</td>\n",
       "      <td>2.570000</td>\n",
       "    </tr>\n",
       "    <tr>\n",
       "      <th>75%</th>\n",
       "      <td>14325.000000</td>\n",
       "      <td>395.000000</td>\n",
       "      <td>2023-08-30 18:00:00</td>\n",
       "      <td>2023.0</td>\n",
       "      <td>8.750000</td>\n",
       "      <td>2.697500</td>\n",
       "    </tr>\n",
       "    <tr>\n",
       "      <th>max</th>\n",
       "      <td>17800.000000</td>\n",
       "      <td>480.000000</td>\n",
       "      <td>2023-11-03 00:00:00</td>\n",
       "      <td>2023.0</td>\n",
       "      <td>11.000000</td>\n",
       "      <td>2.920000</td>\n",
       "    </tr>\n",
       "    <tr>\n",
       "      <th>std</th>\n",
       "      <td>3264.352922</td>\n",
       "      <td>104.184665</td>\n",
       "      <td>NaN</td>\n",
       "      <td>0.0</td>\n",
       "      <td>3.333333</td>\n",
       "      <td>0.253386</td>\n",
       "    </tr>\n",
       "  </tbody>\n",
       "</table>\n",
       "</div>"
      ],
      "text/plain": [
       "          viewCount   likeCount        publishedDate    year      month  \\\n",
       "count     10.000000   10.000000                   10    10.0  10.000000   \n",
       "mean   12040.000000  311.000000  2023-06-10 16:48:00  2023.0   6.000000   \n",
       "min     7600.000000  190.000000  2023-02-10 00:00:00  2023.0   2.000000   \n",
       "25%     9425.000000  235.000000  2023-03-11 18:00:00  2023.0   3.250000   \n",
       "50%    11850.000000  280.000000  2023-05-31 00:00:00  2023.0   5.500000   \n",
       "75%    14325.000000  395.000000  2023-08-30 18:00:00  2023.0   8.750000   \n",
       "max    17800.000000  480.000000  2023-11-03 00:00:00  2023.0  11.000000   \n",
       "std     3264.352922  104.184665                  NaN     0.0   3.333333   \n",
       "\n",
       "        likeRate  \n",
       "count  10.000000  \n",
       "mean    2.554000  \n",
       "min     2.140000  \n",
       "25%     2.365000  \n",
       "50%     2.570000  \n",
       "75%     2.697500  \n",
       "max     2.920000  \n",
       "std     0.253386  "
      ]
     },
     "execution_count": 39,
     "metadata": {},
     "output_type": "execute_result"
    }
   ],
   "source": [
    "# 전체 요약\n",
    "\n",
    "df.describe()"
   ]
  },
  {
   "cell_type": "code",
   "execution_count": 40,
   "id": "c62e4cef",
   "metadata": {},
   "outputs": [
    {
     "name": "stderr",
     "output_type": "stream",
     "text": [
      "C:\\Users\\USER\\AppData\\Local\\Temp\\ipykernel_4992\\2221320861.py:4: FutureWarning: \n",
      "\n",
      "Passing `palette` without assigning `hue` is deprecated and will be removed in v0.14.0. Assign the `x` variable to `hue` and set `legend=False` for the same effect.\n",
      "\n",
      "  sns.countplot(data=df, x=\"category\", palette=\"pastel\")\n"
     ]
    },
    {
     "data": {
      "image/png": "[encoded data removed]",
      "text/plain": [
       "<Figure size 700x400 with 1 Axes>"
      ]
     },
     "metadata": {},
     "output_type": "display_data"
    }
   ],
   "source": [
    "# 뉴스 카테고리별 기사 수\n",
    "\n",
    "plt.figure(figsize=(7,4))\n",
    "sns.countplot(data=df, x=\"category\", palette=\"pastel\")\n",
    "plt.title(\"카테고리별 기사 수\")\n",
    "plt.xlabel(\"카테고리\")\n",
    "plt.ylabel(\"기사 수\")\n",
    "plt.show()"
   ]
  },
  {
   "cell_type": "code",
   "execution_count": 41,
   "id": "e12889fe",
   "metadata": {},
   "outputs": [
    {
     "name": "stderr",
     "output_type": "stream",
     "text": [
      "C:\\Users\\USER\\AppData\\Local\\Temp\\ipykernel_4992\\1320322378.py:4: FutureWarning: \n",
      "\n",
      "Passing `palette` without assigning `hue` is deprecated and will be removed in v0.14.0. Assign the `x` variable to `hue` and set `legend=False` for the same effect.\n",
      "\n",
      "  sns.barplot(data=df, x=\"category\", y=\"viewCount\", palette=\"Blues_d\")\n"
     ]
    },
    {
     "data": {
      "image/png": "[encoded data removed]",
      "text/plain": [
       "<Figure size 700x400 with 1 Axes>"
      ]
     },
     "metadata": {},
     "output_type": "display_data"
    }
   ],
   "source": [
    "# 카테고리별 평균 조회수\n",
    "\n",
    "plt.figure(figsize=(7,4))\n",
    "sns.barplot(data=df, x=\"category\", y=\"viewCount\", palette=\"Blues_d\")\n",
    "plt.title(\"카테고리별 평균 조회수\")\n",
    "plt.xlabel(\"카테고리\")\n",
    "plt.ylabel(\"평균 조회수\")\n",
    "plt.show()"
   ]
  },
  {
   "cell_type": "code",
   "execution_count": 42,
   "id": "b2c41bc8",
   "metadata": {},
   "outputs": [
    {
     "data": {
      "image/png": "[encoded data removed]",
      "text/plain": [
       "<Figure size 800x500 with 1 Axes>"
      ]
     },
     "metadata": {},
     "output_type": "display_data"
    }
   ],
   "source": [
    "# 조회수 분포\n",
    "\n",
    "plt.figure(figsize=(8,5))\n",
    "sns.histplot(df[\"viewCount\"], bins=6)\n",
    "plt.title(\"뉴스 조회수 분포\")\n",
    "plt.xlabel(\"조회수\")\n",
    "plt.ylabel(\"기사 수\")\n",
    "plt.show()"
   ]
  },
  {
   "cell_type": "code",
   "execution_count": 43,
   "id": "80fffc3b",
   "metadata": {},
   "outputs": [
    {
     "data": {
      "image/png": "[encoded data removed]",
      "text/plain": [
       "<Figure size 600x500 with 1 Axes>"
      ]
     },
     "metadata": {},
     "output_type": "display_data"
    }
   ],
   "source": [
    "# 좋아요수 vs 조회수 관계\n",
    "\n",
    "plt.figure(figsize=(6,5))\n",
    "sns.scatterplot(data=df, x=\"viewCount\", y=\"likeCount\", hue=\"category\", s=100)\n",
    "plt.title(\"조회수와 좋아요수의 관계\")\n",
    "plt.xlabel(\"조회수\")\n",
    "plt.ylabel(\"좋아요 수\")\n",
    "plt.show()"
   ]
  },
  {
   "cell_type": "code",
   "execution_count": 44,
   "id": "e1532249",
   "metadata": {},
   "outputs": [
    {
     "data": {
      "image/png": "[encoded data removed]",
      "text/plain": [
       "<Figure size 700x400 with 1 Axes>"
      ]
     },
     "metadata": {},
     "output_type": "display_data"
    }
   ],
   "source": [
    "# 월별 뉴스 발행 추이\n",
    "\n",
    "plt.figure(figsize=(7,4))\n",
    "ax = sns.countplot(data=df, x=\"month\", color=\"skyblue\")\n",
    "plt.title(\"월별 뉴스 발행 추이\")#\n",
    "plt.xlabel(\"월\")\n",
    "plt.ylabel(\"기사 수\")\n",
    "\n",
    "ax.set_yticks(range(0, int(df['month'].value_counts().max()) + 1))\n",
    "plt.show()"
   ]
  }
 ],
 "metadata": {
  "kernelspec": {
   "display_name": "venv",
   "language": "python",
   "name": "python3"
  },
  "language_info": {
   "codemirror_mode": {
    "name": "ipython",
    "version": 3
   },
   "file_extension": ".py",
   "mimetype": "text/x-python",
   "name": "python",
   "nbconvert_exporter": "python",
   "pygments_lexer": "ipython3",
   "version": "3.10.0"
  }
 },
 "nbformat": 4,
 "nbformat_minor": 5
}
